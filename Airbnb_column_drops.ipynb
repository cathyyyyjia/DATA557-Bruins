{
 "cells": [
  {
   "cell_type": "code",
   "execution_count": null,
   "metadata": {},
   "outputs": [],
   "source": [
    "import pandas as pd\n",
    "cdata = pd.read_csv('CleanListings.csv', low_memory=False)\n",
    "pd.options.display.max_rows = 999"
   ]
  },
  {
   "cell_type": "code",
   "execution_count": null,
   "metadata": {},
   "outputs": [],
   "source": [
    "cdata = cdata.set_index('id')"
   ]
  },
  {
   "cell_type": "code",
   "execution_count": null,
   "metadata": {},
   "outputs": [],
   "source": [
    "drop_columns = ['experiences_offered','thumbnail_url','medium_url','xl_picture_url','calendar_updated','amenities_Other_pets',\n",
    " 'host_verifications_zhima_selfie','host_verifications_weibo','host_verifications_sent_id','host_verifications_phone',\n",
    " 'host_verifications_offline_government_id','host_verifications_manual_online','host_verifications_manual_offline',\n",
    " 'amenities_Wifi','amenities_toilet','amenities_Wine_cooler','amenities_Window_guards','amenities_Wide_hallway_clearance',\n",
    " 'amenities_Wide_entryway','amenities_Wide_doorway','amenities_Wheelchair_accessible','amenities_Well_lit_path_to_entrance',\n",
    " 'amenities_Wide_clearance_to_bed','amenities_Wide_clearance_to_shower','amenities_Waterfront','amenities_Washer_Dryer',\n",
    " 'amenities_Warming_drawer', 'amenities_Walk_in_shower','amenities_Toilet_paper', 'amenities_Terrace','amenities_Tennis_court',                       \n",
    " 'amenities_Table_corner_guards','amenities_Sun_loungers','amenities_Smart_lock', 'amenities_Suitable_for_events',\n",
    " 'amenities_Steam_oven','amenities_Standing_valet', 'amenities_Stand_alone_steam_shower','amenities_Stair_gates',\n",
    " 'amenities_Sound_system','amenities_Soaking_tub','amenities_Smoking_allowed','amenities_Smart_TV','amenities_Ski_in_Ski_out',\n",
    " 'amenities_Single_level_home','amenities_Shower_chair','amenities_Shared_pool','amenities_Shared_hot_tub','amenities_Shared_gym',\n",
    " 'amenities_Sauna','amenities_Room_darkening_shades','amenities_Roll_in_shower','amenities_Rain_shower',\n",
    " 'amenities_Projector_and_screen','amenities_Private_hot_tub','amenities_Private_gym','amenities_Private_bathroom',\n",
    " 'amenities_Printer','amenities_Pool','amenities_Pool_with_pool_hoist','amenities_Pocket_wifi','amenities_Pillow_top_mattress',\n",
    " 'amenities_Pool','amenities_Paid_parking_on_premises','amenities_Paid_parking_off_premises','amenities_Outlet_covers',\n",
    " 'amenities_Outdoor_seating','amenities_Outdoor_parking','amenities_Other_pets','amenities_Other','amenities_Netflix',\n",
    " 'amenities_Murphy_bed','amenities_Mudroom','amenities_Mountain_view','amenities_Mini_fridge','amenities_Memory_foam_mattress',\n",
    " 'amenities_Lake_access','amenities_Kitchenette','amenities_Jetted_tub','amenities_Hot_water_kettle','amenities_Hot_tub',\n",
    " 'amenities_Host_greets_you','amenities_High_resolution_computer_monitor','amenities_High_chair','amenities_Heating',\n",
    " 'amenities_Heated_towel_rack','amenities_Heated_floors','amenities_Heat_lamps','amenities_Handheld_shower_head',\n",
    " 'amenities_Hammock','amenities_HBO_GO','amenities_Ground_floor_access','amenities_Gas_oven','amenities_Game_console',\n",
    " 'amenities_Full_kitchen','amenities_Formal_dining_area','amenities_Flat_path_to_front_door','amenities_Firm_mattress',\n",
    " 'amenities_Fixed_grab_bars_for_toilet','amenities_Fixed_grab_bars_for_shower','amenities_Fireplace_guards',\n",
    " 'amenities_Fire_pit','amenities_Fire_extinguisher','amenities_Fax_machine','amenities_Exercise_equipment',\n",
    " 'amenities_Espresso_machine','amenities_En_suite_bathroom','amenities_Electric_profiling_bed','amenities_EV_charger',\n",
    " 'amenities_Doorman','amenities_Dogs','amenities_Disabled_parking_spot','amenities_Day_bed','amenities_DVD_player',\n",
    " 'amenities_Crib','amenities_Convection_oven','amenities_Cleaning_before_checkout','amenities_Childrens_dinnerware',\n",
    " 'amenities_Childrens_books_and_toys','amenities_Changing_table','amenities_Central_air_conditioning','amenities_Ceiling_fan',\n",
    " 'amenities_Cats','amenities_Buzzer_wireless_intercom','amenities_Building_staff','amenities_Breakfast_table',\n",
    " 'amenities_Body_soap','amenities_Bidet','amenities_Bedroom_comforts','amenities_Beachfront','amenities_Beach_view',\n",
    " 'amenities_Beach_essentials','amenities_Bathtub_with_bath_chair','amenities_Bathroom_essentials','amenities_Bath_towel',\n",
    " 'amenities_Balcony','amenities_Babysitter_recommendations','amenities_Baby_monitor','amenities_Baby_bath','amenities_Amazon_Echo',\n",
    " 'amenities_Alfresco_bathtub','amenities_Air_purifier','amenities_Accessible_height_toilet','amenities_Accessible_height_bed']"
   ]
  },
  {
   "cell_type": "code",
   "execution_count": null,
   "metadata": {},
   "outputs": [],
   "source": [
    "seaData = seaData.drop(drop_columns,axis=1)"
   ]
  },
  {
   "cell_type": "code",
   "execution_count": null,
   "metadata": {},
   "outputs": [],
   "source": [
    "cdata.to_csv('CleanListings_SeaWa.csv')"
   ]
  }
 ],
 "metadata": {
  "kernelspec": {
   "display_name": "Python 3",
   "language": "python",
   "name": "python3"
  },
  "language_info": {
   "codemirror_mode": {
    "name": "ipython",
    "version": 3
   },
   "file_extension": ".py",
   "mimetype": "text/x-python",
   "name": "python",
   "nbconvert_exporter": "python",
   "pygments_lexer": "ipython3",
   "version": "3.6.5"
  }
 },
 "nbformat": 4,
 "nbformat_minor": 2
}
